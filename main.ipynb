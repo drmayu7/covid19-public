{
 "cells": [
  {
   "cell_type": "code",
   "execution_count": 1,
   "id": "64f41455",
   "metadata": {},
   "outputs": [],
   "source": [
    "import pandas as pd\n",
    "import get_data"
   ]
  },
  {
   "cell_type": "code",
   "execution_count": 2,
   "id": "6b8a3cf5",
   "metadata": {},
   "outputs": [],
   "source": [
    "df = get_data.read_csv('epidemic','clusters')"
   ]
  }
 ],
 "metadata": {
  "kernelspec": {
   "display_name": "Python 3 (ipykernel)",
   "language": "python",
   "name": "python3"
  },
  "language_info": {
   "codemirror_mode": {
    "name": "ipython",
    "version": 3
   },
   "file_extension": ".py",
   "mimetype": "text/x-python",
   "name": "python",
   "nbconvert_exporter": "python",
   "pygments_lexer": "ipython3",
   "version": "3.10.0"
  }
 },
 "nbformat": 4,
 "nbformat_minor": 5
}
